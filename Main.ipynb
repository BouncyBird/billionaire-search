{
 "cells": [
  {
   "cell_type": "markdown",
   "metadata": {},
   "source": [
    "# Billionaire Search w/ Kaggle and Pandas"
   ]
  },
  {
   "cell_type": "markdown",
   "metadata": {},
   "source": [
    "### Importing Dependencies:"
   ]
  },
  {
   "cell_type": "code",
   "execution_count": null,
   "metadata": {},
   "outputs": [],
   "source": [
    "!pip install pandas\n",
    "!pip install kaggle\n",
    "try:\n",
    "    from kaggle.api.kaggle_api_extended import KaggleApi\n",
    "except:\n",
    "    skip = True\n",
    "import pandas as pd"
   ]
  },
  {
   "cell_type": "markdown",
   "metadata": {},
   "source": [
    "### Initalizing Kaggle API and Download Dataset\n",
    "\n",
    "Initializes Kaggle API and downloads billionaire dataset"
   ]
  },
  {
   "cell_type": "code",
   "execution_count": null,
   "metadata": {},
   "outputs": [],
   "source": [
    "if not skip == True:\n",
    "    api = KaggleApi()\n",
    "    api.authenticate()\n",
    "\n",
    "    api.dataset_download_files('roysouravcu/forbes-billionaires-of-2021', path='data/', force=True, unzip=True)"
   ]
  },
  {
   "cell_type": "markdown",
   "metadata": {},
   "source": [
    "### Initializing Pandas\n",
    "\n",
    "Pass CSV into Pandas DataFrame"
   ]
  },
  {
   "cell_type": "code",
   "execution_count": null,
   "metadata": {},
   "outputs": [],
   "source": [
    "df = pd.read_csv('data/Billionaire.csv')"
   ]
  },
  {
   "cell_type": "markdown",
   "metadata": {},
   "source": [
    "### Retreives User Input"
   ]
  },
  {
   "cell_type": "code",
   "execution_count": null,
   "metadata": {},
   "outputs": [],
   "source": [
    "inp = input(\"Search for billionaire by name:\\n> \")"
   ]
  },
  {
   "cell_type": "markdown",
   "metadata": {},
   "source": [
    "### Search by name and source"
   ]
  },
  {
   "cell_type": "code",
   "execution_count": null,
   "metadata": {},
   "outputs": [],
   "source": [
    "count = 0\n",
    "sdf = {'Name': '0'}\n",
    "\n",
    "for i in df['Name']:\n",
    "    if inp.lower() in i.lower():\n",
    "        count += 1\n",
    "        if count == 1:\n",
    "            sdf = pd.DataFrame(df[df['Name'] == i])\n",
    "        elif count > 1:\n",
    "            sdff = pd.DataFrame(df[df['Name'] == i])\n",
    "            sdf.loc[len(sdf.index)] = [sdff['Name'].values[0], sdff['NetWorth'].values[0], sdff['Country'].values[0], sdff['Source'].values[0], sdff['Rank'].values[0]]\n",
    "            \n",
    "\n",
    "for i in df['Source']:\n",
    "    if inp.lower() in i.lower():\n",
    "        count += 1\n",
    "        \n",
    "        if not df[df['Source'] == i]['Name'].values[0] in sdf['Name']:\n",
    "            if count <= 1:\n",
    "                sdf = pd.DataFrame(df[df['Source'] == i])\n",
    "            elif count > 1:\n",
    "                sdff = pd.DataFrame(df[df['Source'] == i])\n",
    "                sdf.loc[len(sdf.index)] = [sdff['Name'].values[0], sdff['NetWorth'].values[0], sdff['Country'].values[0], sdff['Source'].values[0], sdff['Rank'].values[0]]    \n",
    "\n",
    "sdf"
   ]
  }
 ],
 "metadata": {
  "kernelspec": {
   "display_name": "Python 3",
   "language": "python",
   "name": "python3"
  },
  "language_info": {
   "codemirror_mode": {
    "name": "ipython",
    "version": 3
   },
   "file_extension": ".py",
   "mimetype": "text/x-python",
   "name": "python",
   "nbconvert_exporter": "python",
   "pygments_lexer": "ipython3",
   "version": "3.8.5"
  }
 },
 "nbformat": 4,
 "nbformat_minor": 4
}
